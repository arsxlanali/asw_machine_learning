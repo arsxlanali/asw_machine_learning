{
  "nbformat": 4,
  "nbformat_minor": 0,
  "metadata": {
    "colab": {
      "provenance": [],
      "authorship_tag": "ABX9TyOJxcV22fGxWkjJU89FtTc1",
      "include_colab_link": true
    },
    "kernelspec": {
      "name": "python3",
      "display_name": "Python 3"
    },
    "language_info": {
      "name": "python"
    },
    "accelerator": "GPU",
    "gpuClass": "standard"
  },
  "cells": [
    {
      "cell_type": "markdown",
      "metadata": {
        "id": "view-in-github",
        "colab_type": "text"
      },
      "source": [
        "<a href=\"https://colab.research.google.com/github/arsxlanali/aws_machine_learning/blob/master/FinancialSentimentAnalysis.ipynb\" target=\"_parent\"><img src=\"https://colab.research.google.com/assets/colab-badge.svg\" alt=\"Open In Colab\"/></a>"
      ]
    },
    {
      "cell_type": "markdown",
      "source": [
        "## Part A – Application area review.\n",
        "## Choose one of the problem domains from the list below. This should be different from the domain you chose for your FYP. Do a brief literature review exploring how AI has been applied within this problem domain. [10]\n",
        "\n",
        "Market analysis, algorithmic trading, personal portfolio management, Education, Games,\n",
        "Robotics, Hospitals and medicine, Human resources and computing, Transportation, Chatbots,\n",
        "News publishing and writing, Marketing, Music recognition and composition, Speech and text\n",
        "recognition, Data mining, E-mail and spam filtering, Gesture recognition, Voice recognition,\n",
        "Scheduling, Traffic control, Robot navigation, Obstacle avoidance, Object recognition.\n",
        "\n",
        "\n",
        "\n",
        "## Algorithmic trading - Think Before investing\n",
        "\n",
        "Artificial intelligence (AI) is increasingly being applied to algorithmic trading to improve trading performance and decision-making. \n",
        " AI is being increasingly utilised in the algorithmic trading sector and offers many benefits. As 80% of all data is completely unstructured, AI and its complexed applications including ML and DL aims to deliver a more structured, organised and data-fuelled approach to the trading world, helping to make the whole process efficient, while providing split-second insights.\n",
        "Here are a few examples of how AI is being used in algorithmic trading:\n",
        "\n",
        "\n",
        "#### Predictive modeling:\n",
        "Predictive modeling is a process of using historical market data and machine learning algorithms to make predictions about future market conditions. The goal of predictive modeling in algorithmic trading is to identify patterns and trends in the market data and to use this information to make informed trading decisions.\n",
        "\n",
        "\n",
        "#### Natural Language Processing (NLP):\n",
        "AI-powered algorithms use NLP techniques to analyze large amounts of textual data from social media, news articles, and other sources. This can help traders to identify sentiment trends and to detect early signals of market events.\n",
        "\n",
        "\n",
        "#### Smart Order Routing\n",
        "Smart order routing is a process of sending an order to the right exchange or liquidity provider based on real-time market conditions and historical data. The goal of smart order routing is to ensure that orders are executed at the best possible price and with the least amount of latency.\n",
        "AI-powered algorithms are designed to analyze the data, identify the best venues to execute the order based on the type of the order and its characteristics."
      ],
      "metadata": {
        "id": "SDmsF9wwQ8up"
      }
    },
    {
      "cell_type": "markdown",
      "source": [
        "\n",
        "## Part B – Compare and evaluate AI techniques.\n",
        "Evaluate at least three AI techniques that can be applied to the problem. Discuss the strengths and\n",
        "weaknesses, advantages and disadvantages of each technique. Give brief examples of how each\n",
        "technique can be applied to your problem. Select a specific technique to implement and state your\n",
        "goal clearly. For example “Stock price prediction using using Neural Networks”. 5 marks each [15]\n",
        "\n",
        "### Expert System\n",
        "\n",
        "Expert systems are rule-based AI systems that mimic the decision-making abilities of human experts. They consist of three main components: a knowledge base, an inference engine, and a user interface.\n",
        "\n",
        "#### Knowledge base \n",
        "The knowledge base is the heart of the expert system, and it contains the domain knowledge and a set of predefined rules that the system uses to make decisions. The knowledge base can be built and maintained by human experts and it can contain facts, rules, and procedures about the domain.\n",
        "\n",
        "#### Inference engine \n",
        "The inference engine is the component of the expert system that makes use of the knowledge base to make decisions. The inference engine uses a set of predefined rules and logical reasoning to infer new facts and to make decisions. It can make use of different reasoning methods such as forward chaining, backward chaining, and rule-based reasoning.\n",
        "\n",
        "#### User interface \n",
        "The user interface is the component of the expert system that interacts with the users and it allows the users to interact with the system by inputting data, viewing the results and getting explanations.\n",
        "\n",
        "#### Strengths\n",
        "\n",
        "Accurate and consistent decision-making: Expert systems are based on the knowledge of experts in a specific domain, and they can make decisions that are consistent with that knowledge.\n",
        "Can handle complexity: Expert systems can handle complex problems and decision-making scenarios that would be difficult for humans to navigate.\n",
        "Scalability: Expert systems can be scaled to handle increasing amounts of data and more complex problems.\n",
        "#### Weaknesses\n",
        "\n",
        "Limited knowledge base: Expert systems are only as good as the knowledge that is encoded into them. If the knowledge base is incomplete or incorrect, the system's decisions will be similarly flawed.\n",
        "Brittle: Expert systems can only operate within the parameters of their knowledge base and are not able to adapt to new or unexpected situations.\n",
        "Lack of creativity: Expert systems lack the ability to think creatively or come up with new solutions.\n",
        "Dependence on experts: Expert systems are heavily dependent on the expertise of domain experts to provide the knowledge they need to operate.\n",
        "\n",
        "### Machine Learning\n",
        "\n",
        "Machine learning (ML) is a technique used in algorithmic trading to analyze historical market data and make predictions about future market conditions. In algorithmic trading, ML algorithms are used to identify patterns and trends in the market data, and to use this information to make informed trading decisions.\n",
        "\n",
        "There are different types of ML algorithms that can be used in algorithmic trading, such as supervised learning, unsupervised learning, and reinforcement learning algorithms. Supervised learning algorithms are trained on labeled data and are used for tasks such as regression and classification. Unsupervised learning algorithms, on the other hand, are used for tasks such as anomaly detection and dimensionality reduction. Reinforcement learning algorithms can be used to optimize trading strategies by learning from the market through trial and error.\n",
        "\n",
        "The specific ML algorithm used in algorithmic trading will depend on the nature of the problem and the data available. For example, a supervised learning algorithm such as a linear regression or a neural network may be used to predict stock prices, while an unsupervised learning algorithm such as a clustering algorithm may be used to identify patterns in trading data.\n",
        "\n",
        "The performance of the ML algorithm can be evaluated and optimized by using different techniques such as cross-validation, hyperparameter tuning and backtesting on historical data.\n",
        "\n",
        "Machine Learning (ML) models are widely used in sentiment analysis to classify text as having positive, negative, or neutral sentiment. Here are some of the strengths and weaknesses of some commonly used ML models for sentiment analysis:\n",
        "\n",
        "#### Logistic Regression:\n",
        "\n",
        "#### Strengths \n",
        "Logistic regression is simple, easy to interpret, and computationally efficient. It can handle large datasets and high-dimensional data.\n",
        "Logistic regression can be used to classify text as having positive, negative, or neutral sentiment based on a dataset of labeled text data.\n",
        "#### Weaknesses\n",
        "Logistic regression is not good at handling non-linear relationships and can struggle with very complex datasets.\n",
        "Advantages: \n",
        "Logistic regression is limited in its ability to capture non-linear relationships.\n",
        "#### Example: \n",
        "Logistic regression can be used to classify tweets as positive, negative, or neutral based on their text content.\n",
        "\n",
        "### Natural Language Processing (NLP)\n",
        "Natural Language Processing (NLP) is a powerful tool in algorithmic trading, as it allows for the analysis of large amounts of textual data from various sources such as social media, news articles, and other sources to extract relevant information that can be used to make trading decisions.\n",
        "\n",
        "Here are some of the strengths and weaknesses, advantages, and disadvantages of some NLP techniques that are commonly used in algorithmic trading:\n",
        "\n",
        "####Sentiment Analysis:\n",
        "\n",
        "##### Strengths:\n",
        "Can be used to quickly analyze large amounts of text data and identify overall sentiment (positive, negative, neutral).\n",
        "Can be used to identify sentiment trends in financial news articles and social media posts, which can be used to make informed trading decisions.\n",
        "\n",
        "##### Weaknesses \n",
        "Can have difficulty accurately identifying sarcasm, irony and subjectivity in text.\n",
        "The complexity of natural language can make it difficult to accurately classify sentiment in some cases.\n",
        "#### Example:\n",
        " Sentiment Analysis can be used to classify tweets about a specific stock as positive, negative or neutral.\n"
      ],
      "metadata": {
        "id": "9Us91pBRUTGP"
      }
    },
    {
      "cell_type": "markdown",
      "source": [
        "## Part C – Implementation.\n",
        "a) Select one technique to explore in depth and implement as a prototype.\n",
        "a. Describe the input required for your implementation: graph, time series, etc. Where will you\n",
        "get the data. Does the data need to be prepared? [15]"
      ],
      "metadata": {
        "id": "K62PTZljc561"
      }
    },
    {
      "cell_type": "markdown",
      "source": [
        "We used the Financial Sentiment dataset from kaggle [Dataset Link](https://www.kaggle.com/datasets/sbhatti/financial-sentiment-analysis)\n",
        "\n"
      ],
      "metadata": {
        "id": "TLD4Zk4adBVZ"
      }
    },
    {
      "cell_type": "code",
      "execution_count": null,
      "metadata": {
        "id": "DaEQ9wVB7NO8"
      },
      "outputs": [],
      "source": [
        "import pandas as pd\n",
        "from sklearn import svm\n",
        "import matplotlib.pyplot as plt\n",
        "from keras_preprocessing.sequence import pad_sequences\n",
        "from keras.layers import Embedding, Conv1D, MaxPooling1D, Flatten, Dense\n",
        "from keras.models import Sequential\n",
        "from sklearn.model_selection import train_test_split\n",
        "from sklearn.metrics import confusion_matrix\n",
        "from sklearn import metrics\n",
        "import numpy as np\n",
        "import string\n",
        "import re"
      ]
    },
    {
      "cell_type": "code",
      "source": [
        "dataframe = pd.read_csv('./data.csv')"
      ],
      "metadata": {
        "id": "tdahyImV8DfL"
      },
      "execution_count": null,
      "outputs": []
    },
    {
      "cell_type": "code",
      "source": [
        "dataframe"
      ],
      "metadata": {
        "colab": {
          "base_uri": "https://localhost:8080/",
          "height": 424
        },
        "id": "Yeg63gVB8KLl",
        "outputId": "434c620c-520a-4e25-9e9c-21ffa6ff1b05"
      },
      "execution_count": null,
      "outputs": [
        {
          "output_type": "execute_result",
          "data": {
            "text/plain": [
              "                                               Sentence Sentiment\n",
              "0     The GeoSolutions technology will leverage Bene...  positive\n",
              "1     $ESI on lows, down $1.50 to $2.50 BK a real po...  negative\n",
              "2     For the last quarter of 2010 , Componenta 's n...  positive\n",
              "3     According to the Finnish-Russian Chamber of Co...   neutral\n",
              "4     The Swedish buyout firm has sold its remaining...   neutral\n",
              "...                                                 ...       ...\n",
              "5837  RISING costs have forced packaging producer Hu...  negative\n",
              "5838  Nordic Walking was first used as a summer trai...   neutral\n",
              "5839  According shipping company Viking Line , the E...   neutral\n",
              "5840  In the building and home improvement trade , s...   neutral\n",
              "5841  HELSINKI AFX - KCI Konecranes said it has won ...  positive\n",
              "\n",
              "[5842 rows x 2 columns]"
            ],
            "text/html": [
              "\n",
              "  <div id=\"df-9979ab57-6d69-4109-ad74-f6d17a1276f8\">\n",
              "    <div class=\"colab-df-container\">\n",
              "      <div>\n",
              "<style scoped>\n",
              "    .dataframe tbody tr th:only-of-type {\n",
              "        vertical-align: middle;\n",
              "    }\n",
              "\n",
              "    .dataframe tbody tr th {\n",
              "        vertical-align: top;\n",
              "    }\n",
              "\n",
              "    .dataframe thead th {\n",
              "        text-align: right;\n",
              "    }\n",
              "</style>\n",
              "<table border=\"1\" class=\"dataframe\">\n",
              "  <thead>\n",
              "    <tr style=\"text-align: right;\">\n",
              "      <th></th>\n",
              "      <th>Sentence</th>\n",
              "      <th>Sentiment</th>\n",
              "    </tr>\n",
              "  </thead>\n",
              "  <tbody>\n",
              "    <tr>\n",
              "      <th>0</th>\n",
              "      <td>The GeoSolutions technology will leverage Bene...</td>\n",
              "      <td>positive</td>\n",
              "    </tr>\n",
              "    <tr>\n",
              "      <th>1</th>\n",
              "      <td>$ESI on lows, down $1.50 to $2.50 BK a real po...</td>\n",
              "      <td>negative</td>\n",
              "    </tr>\n",
              "    <tr>\n",
              "      <th>2</th>\n",
              "      <td>For the last quarter of 2010 , Componenta 's n...</td>\n",
              "      <td>positive</td>\n",
              "    </tr>\n",
              "    <tr>\n",
              "      <th>3</th>\n",
              "      <td>According to the Finnish-Russian Chamber of Co...</td>\n",
              "      <td>neutral</td>\n",
              "    </tr>\n",
              "    <tr>\n",
              "      <th>4</th>\n",
              "      <td>The Swedish buyout firm has sold its remaining...</td>\n",
              "      <td>neutral</td>\n",
              "    </tr>\n",
              "    <tr>\n",
              "      <th>...</th>\n",
              "      <td>...</td>\n",
              "      <td>...</td>\n",
              "    </tr>\n",
              "    <tr>\n",
              "      <th>5837</th>\n",
              "      <td>RISING costs have forced packaging producer Hu...</td>\n",
              "      <td>negative</td>\n",
              "    </tr>\n",
              "    <tr>\n",
              "      <th>5838</th>\n",
              "      <td>Nordic Walking was first used as a summer trai...</td>\n",
              "      <td>neutral</td>\n",
              "    </tr>\n",
              "    <tr>\n",
              "      <th>5839</th>\n",
              "      <td>According shipping company Viking Line , the E...</td>\n",
              "      <td>neutral</td>\n",
              "    </tr>\n",
              "    <tr>\n",
              "      <th>5840</th>\n",
              "      <td>In the building and home improvement trade , s...</td>\n",
              "      <td>neutral</td>\n",
              "    </tr>\n",
              "    <tr>\n",
              "      <th>5841</th>\n",
              "      <td>HELSINKI AFX - KCI Konecranes said it has won ...</td>\n",
              "      <td>positive</td>\n",
              "    </tr>\n",
              "  </tbody>\n",
              "</table>\n",
              "<p>5842 rows × 2 columns</p>\n",
              "</div>\n",
              "      <button class=\"colab-df-convert\" onclick=\"convertToInteractive('df-9979ab57-6d69-4109-ad74-f6d17a1276f8')\"\n",
              "              title=\"Convert this dataframe to an interactive table.\"\n",
              "              style=\"display:none;\">\n",
              "        \n",
              "  <svg xmlns=\"http://www.w3.org/2000/svg\" height=\"24px\"viewBox=\"0 0 24 24\"\n",
              "       width=\"24px\">\n",
              "    <path d=\"M0 0h24v24H0V0z\" fill=\"none\"/>\n",
              "    <path d=\"M18.56 5.44l.94 2.06.94-2.06 2.06-.94-2.06-.94-.94-2.06-.94 2.06-2.06.94zm-11 1L8.5 8.5l.94-2.06 2.06-.94-2.06-.94L8.5 2.5l-.94 2.06-2.06.94zm10 10l.94 2.06.94-2.06 2.06-.94-2.06-.94-.94-2.06-.94 2.06-2.06.94z\"/><path d=\"M17.41 7.96l-1.37-1.37c-.4-.4-.92-.59-1.43-.59-.52 0-1.04.2-1.43.59L10.3 9.45l-7.72 7.72c-.78.78-.78 2.05 0 2.83L4 21.41c.39.39.9.59 1.41.59.51 0 1.02-.2 1.41-.59l7.78-7.78 2.81-2.81c.8-.78.8-2.07 0-2.86zM5.41 20L4 18.59l7.72-7.72 1.47 1.35L5.41 20z\"/>\n",
              "  </svg>\n",
              "      </button>\n",
              "      \n",
              "  <style>\n",
              "    .colab-df-container {\n",
              "      display:flex;\n",
              "      flex-wrap:wrap;\n",
              "      gap: 12px;\n",
              "    }\n",
              "\n",
              "    .colab-df-convert {\n",
              "      background-color: #E8F0FE;\n",
              "      border: none;\n",
              "      border-radius: 50%;\n",
              "      cursor: pointer;\n",
              "      display: none;\n",
              "      fill: #1967D2;\n",
              "      height: 32px;\n",
              "      padding: 0 0 0 0;\n",
              "      width: 32px;\n",
              "    }\n",
              "\n",
              "    .colab-df-convert:hover {\n",
              "      background-color: #E2EBFA;\n",
              "      box-shadow: 0px 1px 2px rgba(60, 64, 67, 0.3), 0px 1px 3px 1px rgba(60, 64, 67, 0.15);\n",
              "      fill: #174EA6;\n",
              "    }\n",
              "\n",
              "    [theme=dark] .colab-df-convert {\n",
              "      background-color: #3B4455;\n",
              "      fill: #D2E3FC;\n",
              "    }\n",
              "\n",
              "    [theme=dark] .colab-df-convert:hover {\n",
              "      background-color: #434B5C;\n",
              "      box-shadow: 0px 1px 3px 1px rgba(0, 0, 0, 0.15);\n",
              "      filter: drop-shadow(0px 1px 2px rgba(0, 0, 0, 0.3));\n",
              "      fill: #FFFFFF;\n",
              "    }\n",
              "  </style>\n",
              "\n",
              "      <script>\n",
              "        const buttonEl =\n",
              "          document.querySelector('#df-9979ab57-6d69-4109-ad74-f6d17a1276f8 button.colab-df-convert');\n",
              "        buttonEl.style.display =\n",
              "          google.colab.kernel.accessAllowed ? 'block' : 'none';\n",
              "\n",
              "        async function convertToInteractive(key) {\n",
              "          const element = document.querySelector('#df-9979ab57-6d69-4109-ad74-f6d17a1276f8');\n",
              "          const dataTable =\n",
              "            await google.colab.kernel.invokeFunction('convertToInteractive',\n",
              "                                                     [key], {});\n",
              "          if (!dataTable) return;\n",
              "\n",
              "          const docLinkHtml = 'Like what you see? Visit the ' +\n",
              "            '<a target=\"_blank\" href=https://colab.research.google.com/notebooks/data_table.ipynb>data table notebook</a>'\n",
              "            + ' to learn more about interactive tables.';\n",
              "          element.innerHTML = '';\n",
              "          dataTable['output_type'] = 'display_data';\n",
              "          await google.colab.output.renderOutput(dataTable, element);\n",
              "          const docLink = document.createElement('div');\n",
              "          docLink.innerHTML = docLinkHtml;\n",
              "          element.appendChild(docLink);\n",
              "        }\n",
              "      </script>\n",
              "    </div>\n",
              "  </div>\n",
              "  "
            ]
          },
          "metadata": {},
          "execution_count": 3
        }
      ]
    },
    {
      "cell_type": "code",
      "source": [
        "# Define the regular expression pattern\n",
        "pattern = r\"(#\\w+)|(@\\w+)|(https?://\\S+)\"\n",
        "\n",
        "translator = str.maketrans('', '', string.punctuation)\n",
        "# Apply the regular expression to the 'tweet' column\n",
        "dataframe['Sentence'] = dataframe['Sentence'].apply(lambda x: \n",
        "                                                re.sub(pattern, \"\", x)\n",
        "                                                .translate(translator))"
      ],
      "metadata": {
        "id": "rIA_8YHL8LVm"
      },
      "execution_count": null,
      "outputs": []
    },
    {
      "cell_type": "code",
      "source": [
        "dataframe"
      ],
      "metadata": {
        "colab": {
          "base_uri": "https://localhost:8080/",
          "height": 424
        },
        "id": "6f-eaUn09PfL",
        "outputId": "746fb529-3338-4b3b-e493-3cfe5684cb10"
      },
      "execution_count": null,
      "outputs": [
        {
          "output_type": "execute_result",
          "data": {
            "text/plain": [
              "                                               Sentence Sentiment\n",
              "0     The GeoSolutions technology will leverage Bene...  positive\n",
              "1     ESI on lows down 150 to 250 BK a real possibility  negative\n",
              "2     For the last quarter of 2010  Componenta s net...  positive\n",
              "3     According to the FinnishRussian Chamber of Com...   neutral\n",
              "4     The Swedish buyout firm has sold its remaining...   neutral\n",
              "...                                                 ...       ...\n",
              "5837  RISING costs have forced packaging producer Hu...  negative\n",
              "5838  Nordic Walking was first used as a summer trai...   neutral\n",
              "5839  According shipping company Viking Line  the EU...   neutral\n",
              "5840  In the building and home improvement trade  sa...   neutral\n",
              "5841  HELSINKI AFX  KCI Konecranes said it has won a...  positive\n",
              "\n",
              "[5842 rows x 2 columns]"
            ],
            "text/html": [
              "\n",
              "  <div id=\"df-fbfa3432-015b-43c6-9d4d-15daa6959dc1\">\n",
              "    <div class=\"colab-df-container\">\n",
              "      <div>\n",
              "<style scoped>\n",
              "    .dataframe tbody tr th:only-of-type {\n",
              "        vertical-align: middle;\n",
              "    }\n",
              "\n",
              "    .dataframe tbody tr th {\n",
              "        vertical-align: top;\n",
              "    }\n",
              "\n",
              "    .dataframe thead th {\n",
              "        text-align: right;\n",
              "    }\n",
              "</style>\n",
              "<table border=\"1\" class=\"dataframe\">\n",
              "  <thead>\n",
              "    <tr style=\"text-align: right;\">\n",
              "      <th></th>\n",
              "      <th>Sentence</th>\n",
              "      <th>Sentiment</th>\n",
              "    </tr>\n",
              "  </thead>\n",
              "  <tbody>\n",
              "    <tr>\n",
              "      <th>0</th>\n",
              "      <td>The GeoSolutions technology will leverage Bene...</td>\n",
              "      <td>positive</td>\n",
              "    </tr>\n",
              "    <tr>\n",
              "      <th>1</th>\n",
              "      <td>ESI on lows down 150 to 250 BK a real possibility</td>\n",
              "      <td>negative</td>\n",
              "    </tr>\n",
              "    <tr>\n",
              "      <th>2</th>\n",
              "      <td>For the last quarter of 2010  Componenta s net...</td>\n",
              "      <td>positive</td>\n",
              "    </tr>\n",
              "    <tr>\n",
              "      <th>3</th>\n",
              "      <td>According to the FinnishRussian Chamber of Com...</td>\n",
              "      <td>neutral</td>\n",
              "    </tr>\n",
              "    <tr>\n",
              "      <th>4</th>\n",
              "      <td>The Swedish buyout firm has sold its remaining...</td>\n",
              "      <td>neutral</td>\n",
              "    </tr>\n",
              "    <tr>\n",
              "      <th>...</th>\n",
              "      <td>...</td>\n",
              "      <td>...</td>\n",
              "    </tr>\n",
              "    <tr>\n",
              "      <th>5837</th>\n",
              "      <td>RISING costs have forced packaging producer Hu...</td>\n",
              "      <td>negative</td>\n",
              "    </tr>\n",
              "    <tr>\n",
              "      <th>5838</th>\n",
              "      <td>Nordic Walking was first used as a summer trai...</td>\n",
              "      <td>neutral</td>\n",
              "    </tr>\n",
              "    <tr>\n",
              "      <th>5839</th>\n",
              "      <td>According shipping company Viking Line  the EU...</td>\n",
              "      <td>neutral</td>\n",
              "    </tr>\n",
              "    <tr>\n",
              "      <th>5840</th>\n",
              "      <td>In the building and home improvement trade  sa...</td>\n",
              "      <td>neutral</td>\n",
              "    </tr>\n",
              "    <tr>\n",
              "      <th>5841</th>\n",
              "      <td>HELSINKI AFX  KCI Konecranes said it has won a...</td>\n",
              "      <td>positive</td>\n",
              "    </tr>\n",
              "  </tbody>\n",
              "</table>\n",
              "<p>5842 rows × 2 columns</p>\n",
              "</div>\n",
              "      <button class=\"colab-df-convert\" onclick=\"convertToInteractive('df-fbfa3432-015b-43c6-9d4d-15daa6959dc1')\"\n",
              "              title=\"Convert this dataframe to an interactive table.\"\n",
              "              style=\"display:none;\">\n",
              "        \n",
              "  <svg xmlns=\"http://www.w3.org/2000/svg\" height=\"24px\"viewBox=\"0 0 24 24\"\n",
              "       width=\"24px\">\n",
              "    <path d=\"M0 0h24v24H0V0z\" fill=\"none\"/>\n",
              "    <path d=\"M18.56 5.44l.94 2.06.94-2.06 2.06-.94-2.06-.94-.94-2.06-.94 2.06-2.06.94zm-11 1L8.5 8.5l.94-2.06 2.06-.94-2.06-.94L8.5 2.5l-.94 2.06-2.06.94zm10 10l.94 2.06.94-2.06 2.06-.94-2.06-.94-.94-2.06-.94 2.06-2.06.94z\"/><path d=\"M17.41 7.96l-1.37-1.37c-.4-.4-.92-.59-1.43-.59-.52 0-1.04.2-1.43.59L10.3 9.45l-7.72 7.72c-.78.78-.78 2.05 0 2.83L4 21.41c.39.39.9.59 1.41.59.51 0 1.02-.2 1.41-.59l7.78-7.78 2.81-2.81c.8-.78.8-2.07 0-2.86zM5.41 20L4 18.59l7.72-7.72 1.47 1.35L5.41 20z\"/>\n",
              "  </svg>\n",
              "      </button>\n",
              "      \n",
              "  <style>\n",
              "    .colab-df-container {\n",
              "      display:flex;\n",
              "      flex-wrap:wrap;\n",
              "      gap: 12px;\n",
              "    }\n",
              "\n",
              "    .colab-df-convert {\n",
              "      background-color: #E8F0FE;\n",
              "      border: none;\n",
              "      border-radius: 50%;\n",
              "      cursor: pointer;\n",
              "      display: none;\n",
              "      fill: #1967D2;\n",
              "      height: 32px;\n",
              "      padding: 0 0 0 0;\n",
              "      width: 32px;\n",
              "    }\n",
              "\n",
              "    .colab-df-convert:hover {\n",
              "      background-color: #E2EBFA;\n",
              "      box-shadow: 0px 1px 2px rgba(60, 64, 67, 0.3), 0px 1px 3px 1px rgba(60, 64, 67, 0.15);\n",
              "      fill: #174EA6;\n",
              "    }\n",
              "\n",
              "    [theme=dark] .colab-df-convert {\n",
              "      background-color: #3B4455;\n",
              "      fill: #D2E3FC;\n",
              "    }\n",
              "\n",
              "    [theme=dark] .colab-df-convert:hover {\n",
              "      background-color: #434B5C;\n",
              "      box-shadow: 0px 1px 3px 1px rgba(0, 0, 0, 0.15);\n",
              "      filter: drop-shadow(0px 1px 2px rgba(0, 0, 0, 0.3));\n",
              "      fill: #FFFFFF;\n",
              "    }\n",
              "  </style>\n",
              "\n",
              "      <script>\n",
              "        const buttonEl =\n",
              "          document.querySelector('#df-fbfa3432-015b-43c6-9d4d-15daa6959dc1 button.colab-df-convert');\n",
              "        buttonEl.style.display =\n",
              "          google.colab.kernel.accessAllowed ? 'block' : 'none';\n",
              "\n",
              "        async function convertToInteractive(key) {\n",
              "          const element = document.querySelector('#df-fbfa3432-015b-43c6-9d4d-15daa6959dc1');\n",
              "          const dataTable =\n",
              "            await google.colab.kernel.invokeFunction('convertToInteractive',\n",
              "                                                     [key], {});\n",
              "          if (!dataTable) return;\n",
              "\n",
              "          const docLinkHtml = 'Like what you see? Visit the ' +\n",
              "            '<a target=\"_blank\" href=https://colab.research.google.com/notebooks/data_table.ipynb>data table notebook</a>'\n",
              "            + ' to learn more about interactive tables.';\n",
              "          element.innerHTML = '';\n",
              "          dataTable['output_type'] = 'display_data';\n",
              "          await google.colab.output.renderOutput(dataTable, element);\n",
              "          const docLink = document.createElement('div');\n",
              "          docLink.innerHTML = docLinkHtml;\n",
              "          element.appendChild(docLink);\n",
              "        }\n",
              "      </script>\n",
              "    </div>\n",
              "  </div>\n",
              "  "
            ]
          },
          "metadata": {},
          "execution_count": 5
        }
      ]
    },
    {
      "cell_type": "code",
      "source": [
        "dataframe['Sentiment'].replace(to_replace= 'positive', value = 0, inplace=True )\n",
        "dataframe['Sentiment'].replace(to_replace= 'neutral', value = 1, inplace=True )\n",
        "dataframe['Sentiment'].replace(to_replace= 'negative', value = 2, inplace=True )\n",
        "text_data = list(dataframe['Sentence'])\n",
        "labels = list(dataframe['Sentiment'])\n",
        "labels = np.array(labels)"
      ],
      "metadata": {
        "id": "-iazAOrf9Qfd"
      },
      "execution_count": null,
      "outputs": []
    },
    {
      "cell_type": "code",
      "source": [
        "labels"
      ],
      "metadata": {
        "colab": {
          "base_uri": "https://localhost:8080/"
        },
        "id": "Vqnx-IoM92Q3",
        "outputId": "0fba0590-9ef1-4620-b9d5-fd8dd91f25ad"
      },
      "execution_count": null,
      "outputs": [
        {
          "output_type": "execute_result",
          "data": {
            "text/plain": [
              "array([0, 2, 0, ..., 1, 1, 0])"
            ]
          },
          "metadata": {},
          "execution_count": 7
        }
      ]
    },
    {
      "cell_type": "code",
      "source": [
        "#Tokenize the text data and create the feature vectors\n",
        "#we will use a simple bag-of-words representation\n",
        "vocab = set([word for text in text_data for word in text.split()])\n",
        "feature_vectors = []\n",
        "for text in text_data:\n",
        "    feature_vector = [1 if word in text.split() else 0 for word in vocab]\n",
        "    feature_vectors.append(feature_vector)"
      ],
      "metadata": {
        "id": "f7XgYzyc93K6"
      },
      "execution_count": null,
      "outputs": []
    },
    {
      "cell_type": "code",
      "source": [
        "# Pad the sequences to the same length\n",
        "max_length = max([len(doc) for doc in feature_vectors])\n",
        "padded_sequences = pad_sequences(feature_vectors, maxlen=max_length, padding='post', truncating='post')"
      ],
      "metadata": {
        "id": "qU5sb4pg_BkO"
      },
      "execution_count": null,
      "outputs": []
    },
    {
      "cell_type": "code",
      "source": [
        "X_train, X_test, y_train, y_test = train_test_split(padded_sequences, labels, test_size=0.2, random_state=42)"
      ],
      "metadata": {
        "id": "gPg7_eOx_JVy"
      },
      "execution_count": null,
      "outputs": []
    },
    {
      "cell_type": "code",
      "source": [
        "X_train[0]"
      ],
      "metadata": {
        "colab": {
          "base_uri": "https://localhost:8080/"
        },
        "id": "n8zVvNaq_mL_",
        "outputId": "73a36ba9-4a90-4352-e7de-6d037d3d7879"
      },
      "execution_count": null,
      "outputs": [
        {
          "output_type": "execute_result",
          "data": {
            "text/plain": [
              "array([0, 0, 0, ..., 0, 0, 0], dtype=int32)"
            ]
          },
          "metadata": {},
          "execution_count": 11
        }
      ]
    },
    {
      "cell_type": "code",
      "source": [
        "# Define the CNN model\n",
        "model = Sequential()\n",
        "model.add(Embedding(input_dim=len(vocab), output_dim=300, input_length=max_length))\n",
        "model.add(Conv1D(filters=100, kernel_size=3, activation='relu'))\n",
        "model.add(MaxPooling1D(pool_size=2))\n",
        "model.add(Flatten())\n",
        "model.add(Dense(units=3, activation='softmax'))\n",
        "\n",
        "# Compile the model\n",
        "model.compile(optimizer='adam', loss='sparse_categorical_crossentropy', metrics=['accuracy'])\n",
        "model.summary()\n"
      ],
      "metadata": {
        "colab": {
          "base_uri": "https://localhost:8080/"
        },
        "id": "FbQ7wUeP_nRn",
        "outputId": "7fa322bf-020d-4a22-cf53-e9de22e298ae"
      },
      "execution_count": null,
      "outputs": [
        {
          "output_type": "stream",
          "name": "stdout",
          "text": [
            "Model: \"sequential\"\n",
            "_________________________________________________________________\n",
            " Layer (type)                Output Shape              Param #   \n",
            "=================================================================\n",
            " embedding (Embedding)       (None, 14067, 300)        4220100   \n",
            "                                                                 \n",
            " conv1d (Conv1D)             (None, 14065, 100)        90100     \n",
            "                                                                 \n",
            " max_pooling1d (MaxPooling1D  (None, 7032, 100)        0         \n",
            " )                                                               \n",
            "                                                                 \n",
            " flatten (Flatten)           (None, 703200)            0         \n",
            "                                                                 \n",
            " dense (Dense)               (None, 3)                 2109603   \n",
            "                                                                 \n",
            "=================================================================\n",
            "Total params: 6,419,803\n",
            "Trainable params: 6,419,803\n",
            "Non-trainable params: 0\n",
            "_________________________________________________________________\n"
          ]
        }
      ]
    },
    {
      "cell_type": "markdown",
      "source": [
        "![Example-of-fully-connected-neural-network.png](data:image/png;base64,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)"
      ],
      "metadata": {
        "id": "g9rSgnRgfChE"
      }
    },
    {
      "cell_type": "code",
      "source": [
        "# Train the model\n",
        "cnn = model.fit(X_train, y_train, epochs=5, batch_size=32, validation_data=(X_test, y_test))\n",
        "scores = model.evaluate(X_test, y_test, verbose=0)\n",
        "print(\"Accuracy: %.2f%%\" % (scores[1]*100))"
      ],
      "metadata": {
        "colab": {
          "base_uri": "https://localhost:8080/"
        },
        "id": "F0JWv1SPwXUv",
        "outputId": "2e0a9912-0d04-4331-9ed6-04a82431cafb"
      },
      "execution_count": null,
      "outputs": [
        {
          "output_type": "stream",
          "name": "stdout",
          "text": [
            "Epoch 1/5\n",
            "147/147 [==============================] - 27s 161ms/step - loss: 0.9434 - accuracy: 0.6140 - val_loss: 0.7019 - val_accuracy: 0.6963\n",
            "Epoch 2/5\n",
            "147/147 [==============================] - 24s 160ms/step - loss: 0.4794 - accuracy: 0.8080 - val_loss: 0.7611 - val_accuracy: 0.6920\n",
            "Epoch 3/5\n",
            "147/147 [==============================] - 24s 164ms/step - loss: 0.3098 - accuracy: 0.8735 - val_loss: 0.8950 - val_accuracy: 0.6835\n",
            "Epoch 4/5\n",
            "147/147 [==============================] - 23s 157ms/step - loss: 0.2594 - accuracy: 0.8892 - val_loss: 0.9414 - val_accuracy: 0.6792\n",
            "Epoch 5/5\n",
            "147/147 [==============================] - 23s 157ms/step - loss: 0.2305 - accuracy: 0.8939 - val_loss: 0.9401 - val_accuracy: 0.6784\n",
            "Accuracy: 67.84%\n"
          ]
        }
      ]
    },
    {
      "cell_type": "markdown",
      "source": [
        "## Testing"
      ],
      "metadata": {
        "id": "zU-TcYjwG-vh"
      }
    },
    {
      "cell_type": "markdown",
      "source": [
        "The model is working fine and pinting the expected output"
      ],
      "metadata": {
        "id": "nzJwsf9qcVrG"
      }
    },
    {
      "cell_type": "code",
      "source": [
        "text = \"SPY wouldn't be surprised to see a green close\"\n",
        "feature_vectors = []\n",
        "feature_vector = [1 if word in text.split() else 0 for word in vocab]\n",
        "feature_vectors.append(feature_vector)\n",
        "padded_sequences = pad_sequences(feature_vectors, maxlen=max_length, padding='post', truncating='post')\n",
        "pred = np.argmax(model.predict(padded_sequences))\n",
        "if pred==0:\n",
        "  print('Positive')\n",
        "elif pred==1:\n",
        "  print(\"Neutral\")\n",
        "else:\n",
        "  print(\"Negative\")"
      ],
      "metadata": {
        "colab": {
          "base_uri": "https://localhost:8080/"
        },
        "id": "12T5r1-JHCIW",
        "outputId": "f4c732c5-4b7b-4b45-dd0e-461c6489787a"
      },
      "execution_count": null,
      "outputs": [
        {
          "output_type": "stream",
          "name": "stdout",
          "text": [
            "1/1 [==============================] - 0s 78ms/step\n",
            "Positive\n"
          ]
        }
      ]
    },
    {
      "cell_type": "markdown",
      "source": [
        "## Evalution"
      ],
      "metadata": {
        "id": "-FR-ehZJHCxk"
      }
    },
    {
      "cell_type": "markdown",
      "source": [
        "Due to small dataset we are not not getting high accuracy, but this is enough for us to rely on this model. "
      ],
      "metadata": {
        "id": "e4qVA-1acie5"
      }
    },
    {
      "cell_type": "code",
      "source": [
        "plt.plot(cnn.history['accuracy'], label='Train Data')\n",
        "plt.plot(cnn.history['val_accuracy'], label='Test Data')\n",
        "plt.xlabel('Epoch')\n",
        "plt.ylabel('Accuracy')\n",
        "#plt.ylim([0.8, 1])\n",
        "plt.legend(loc='best')\n",
        "plt.show()"
      ],
      "metadata": {
        "colab": {
          "base_uri": "https://localhost:8080/",
          "height": 279
        },
        "id": "31LozUb4NZI8",
        "outputId": "f2126caa-2b15-4b18-bbbf-5a5b81595799"
      },
      "execution_count": null,
      "outputs": [
        {
          "output_type": "display_data",
          "data": {
            "text/plain": [
              "<Figure size 432x288 with 1 Axes>"
            ],
            "image/png": "[encoded data removed]"
          },
          "metadata": {
            "needs_background": "light"
          }
        }
      ]
    },
    {
      "cell_type": "code",
      "source": [
        "predictions = model.predict(X_test)\n",
        "predictions[0]"
      ],
      "metadata": {
        "colab": {
          "base_uri": "https://localhost:8080/"
        },
        "id": "K19aZ_Qwx31k",
        "outputId": "479612f2-a7fd-41da-9ba2-421e53f9070e"
      },
      "execution_count": null,
      "outputs": [
        {
          "output_type": "stream",
          "name": "stdout",
          "text": [
            "37/37 [==============================] - 2s 51ms/step\n"
          ]
        },
        {
          "output_type": "execute_result",
          "data": {
            "text/plain": [
              "array([0.03404901, 0.95946145, 0.00648946], dtype=float32)"
            ]
          },
          "metadata": {},
          "execution_count": 16
        }
      ]
    },
    {
      "cell_type": "code",
      "source": [
        "prediction = np.array([])\n",
        "for i in predictions:\n",
        "  prediction = np.append(prediction,np.argmax(i))"
      ],
      "metadata": {
        "id": "S2dm1idNDlDd"
      },
      "execution_count": null,
      "outputs": []
    },
    {
      "cell_type": "code",
      "source": [
        "# Calculate the confusion matrix\n",
        "confusion_matrix = confusion_matrix(y_test, prediction)\n",
        "cm_display = metrics.ConfusionMatrixDisplay(confusion_matrix = confusion_matrix, display_labels =['Positive','Neutral','Negative'])\n",
        "\n",
        "cm_display.plot()\n",
        "plt.show()"
      ],
      "metadata": {
        "colab": {
          "base_uri": "https://localhost:8080/",
          "height": 279
        },
        "id": "kSCZMrd6AdPW",
        "outputId": "c3aeb95f-c836-42f0-ad02-02d3b999a6b7"
      },
      "execution_count": null,
      "outputs": [
        {
          "output_type": "display_data",
          "data": {
            "text/plain": [
              "<Figure size 432x288 with 2 Axes>"
            ],
            "image/png": "[encoded data removed]"
          },
          "metadata": {
            "needs_background": "light"
          }
        }
      ]
    },
    {
      "cell_type": "code",
      "source": [],
      "metadata": {
        "id": "qdSXe-I5AyDA"
      },
      "execution_count": null,
      "outputs": []
    }
  ]
}