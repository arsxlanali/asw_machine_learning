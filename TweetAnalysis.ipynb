{
  "cells": [
    {
      "cell_type": "markdown",
      "metadata": {
        "id": "view-in-github",
        "colab_type": "text"
      },
      "source": [
        "<a href=\"https://colab.research.google.com/github/arsxlanali/aws_machine_learning/blob/master/TweetAnalysis.ipynb\" target=\"_parent\"><img src=\"https://colab.research.google.com/assets/colab-badge.svg\" alt=\"Open In Colab\"/></a>"
      ]
    },
    {
      "cell_type": "markdown",
      "source": [
        "# 0. Data Importing"
      ],
      "metadata": {
        "id": "ZOkjPO1qUlOh"
      }
    },
    {
      "cell_type": "markdown",
      "source": [
        "Importing all libraries we will be using in this project"
      ],
      "metadata": {
        "id": "R7sr11PNUscA"
      }
    },
    {
      "cell_type": "code",
      "execution_count": 1,
      "metadata": {
        "id": "MOWu32pW1yL-"
      },
      "outputs": [],
      "source": [
        "import pandas as pd\n",
        "from sklearn.tree import DecisionTreeClassifier\n",
        "from sklearn.feature_extraction.text import CountVectorizer\n",
        "from sklearn.neighbors import KNeighborsClassifier\n",
        "from sklearn import svm\n",
        "import matplotlib.pyplot as plt\n",
        "from keras_preprocessing.sequence import pad_sequences\n",
        "from keras.layers import Embedding, Conv1D, MaxPooling1D, Flatten, Dense\n",
        "from keras.models import Sequential\n",
        "from sklearn.model_selection import train_test_split\n",
        "from sklearn.metrics import classification_report\n",
        "from sklearn import metrics\n",
        "import numpy as np\n",
        "import string\n",
        "import re"
      ]
    },
    {
      "cell_type": "markdown",
      "source": [
        "Load zipped dataset from Google Drive (First mount drive & then unmount it)"
      ],
      "metadata": {
        "id": "KJ4Y_nK_Uz5H"
      }
    },
    {
      "cell_type": "code",
      "execution_count": 2,
      "metadata": {
        "colab": {
          "base_uri": "https://localhost:8080/"
        },
        "id": "hUsltVTx1xsV",
        "outputId": "fecf92ad-ddc9-4cc4-8a8d-8189ef1f0c93"
      },
      "outputs": [
        {
          "output_type": "stream",
          "name": "stdout",
          "text": [
            "Mounted at /content/drive\n",
            "Archive:  /content/drive/MyDrive/trainingandtestdata.zip\n",
            "replace /content/testdata.manual.2009.06.14.csv? [y]es, [n]o, [A]ll, [N]one, [r]ename: n\n",
            "replace /content/training.1600000.processed.noemoticon.csv? [y]es, [n]o, [A]ll, [N]one, [r]ename: n\n"
          ]
        }
      ],
      "source": [
        "from google.colab import drive\n",
        "drive.mount('/content/drive')\n",
        "!unzip \"/content/drive/MyDrive/trainingandtestdata.zip\" -d \"/content\"\n",
        "drive.flush_and_unmount()"
      ]
    },
    {
      "cell_type": "markdown",
      "source": [
        "Importing the training & test dataset with index column as ids and names of columns as given in the task"
      ],
      "metadata": {
        "id": "tatKMgz4VLTQ"
      }
    },
    {
      "cell_type": "code",
      "execution_count": 3,
      "metadata": {
        "id": "pGqzcadW-48S"
      },
      "outputs": [],
      "source": [
        "trainingSet = pd.read_csv(\"./training.1600000.processed.noemoticon.csv\",\n",
        "                          encoding='latin-1',\n",
        "                          names=[\"target\", \"ids\", \"date\", \"flag\",\"user\",\"text\"]\n",
        "                          ).set_index('ids')"
      ]
    },
    {
      "cell_type": "code",
      "execution_count": 4,
      "metadata": {
        "id": "ZMoOFW1T_V5I"
      },
      "outputs": [],
      "source": [
        "testSet = pd.read_csv(\"./testdata.manual.2009.06.14.csv\",\n",
        "                      encoding='latin-1',\n",
        "                      names=[\"target\", \"ids\", \"date\", \"flag\",\"user\",\"text\"]\n",
        "                      ).set_index('ids')"
      ]
    },
    {
      "cell_type": "markdown",
      "source": [
        "The "
      ],
      "metadata": {
        "id": "S-SWacCGVg39"
      }
    },
    {
      "cell_type": "code",
      "execution_count": 5,
      "metadata": {
        "colab": {
          "base_uri": "https://localhost:8080/"
        },
        "id": "OgXkSMUt7pLB",
        "outputId": "a07b2436-2f8e-47f6-f510-bdb5d6690fc8"
      },
      "outputs": [
        {
          "output_type": "execute_result",
          "data": {
            "text/plain": [
              "1600498"
            ]
          },
          "metadata": {},
          "execution_count": 5
        }
      ],
      "source": [
        "dataframe = trainingSet.append(testSet)\n",
        "len(dataframe)"
      ]
    },
    {
      "cell_type": "code",
      "execution_count": 6,
      "metadata": {
        "id": "SeU34MFUT4_C"
      },
      "outputs": [],
      "source": [
        "# sorting by first name\n",
        "dataframe.sort_values(\"ids\", inplace=True)\n",
        "  \n",
        "# dropping duplicate values\n",
        "dataframe.drop_duplicates(keep=False, inplace=True)"
      ]
    },
    {
      "cell_type": "code",
      "execution_count": 7,
      "metadata": {
        "colab": {
          "base_uri": "https://localhost:8080/"
        },
        "id": "nnlMmDczTl2v",
        "outputId": "daa3c257-3d6f-411b-eef9-91544b6637cc"
      },
      "outputs": [
        {
          "output_type": "execute_result",
          "data": {
            "text/plain": [
              "1600130"
            ]
          },
          "metadata": {},
          "execution_count": 7
        }
      ],
      "source": [
        "len(dataframe)"
      ]
    },
    {
      "cell_type": "code",
      "execution_count": 8,
      "metadata": {
        "colab": {
          "base_uri": "https://localhost:8080/",
          "height": 237
        },
        "id": "jloKIRLV_n1I",
        "outputId": "a4daac23-ef2a-4c95-b54e-7a296a9d4d09"
      },
      "outputs": [
        {
          "output_type": "execute_result",
          "data": {
            "text/plain": [
              "     target                          date     flag      user  \\\n",
              "ids                                                            \n",
              "3         4  Mon May 11 03:17:40 UTC 2009  kindle2    tpryan   \n",
              "4         4  Mon May 11 03:18:03 UTC 2009  kindle2    vcu451   \n",
              "5         4  Mon May 11 03:18:54 UTC 2009  kindle2    chadfu   \n",
              "6         4  Mon May 11 03:19:04 UTC 2009  kindle2     SIX15   \n",
              "7         4  Mon May 11 03:21:41 UTC 2009  kindle2  yamarama   \n",
              "\n",
              "                                                  text  \n",
              "ids                                                     \n",
              "3    @stellargirl I loooooooovvvvvveee my Kindle2. ...  \n",
              "4    Reading my kindle2...  Love it... Lee childs i...  \n",
              "5    Ok, first assesment of the #kindle2 ...it fuck...  \n",
              "6    @kenburbary You'll love your Kindle2. I've had...  \n",
              "7    @mikefish  Fair enough. But i have the Kindle2...  "
            ],
            "text/html": [
              "\n",
              "  <div id=\"df-db3a2f84-fc8b-4e24-96ae-4aef19a1d293\">\n",
              "    <div class=\"colab-df-container\">\n",
              "      <div>\n",
              "<style scoped>\n",
              "    .dataframe tbody tr th:only-of-type {\n",
              "        vertical-align: middle;\n",
              "    }\n",
              "\n",
              "    .dataframe tbody tr th {\n",
              "        vertical-align: top;\n",
              "    }\n",
              "\n",
              "    .dataframe thead th {\n",
              "        text-align: right;\n",
              "    }\n",
              "</style>\n",
              "<table border=\"1\" class=\"dataframe\">\n",
              "  <thead>\n",
              "    <tr style=\"text-align: right;\">\n",
              "      <th></th>\n",
              "      <th>target</th>\n",
              "      <th>date</th>\n",
              "      <th>flag</th>\n",
              "      <th>user</th>\n",
              "      <th>text</th>\n",
              "    </tr>\n",
              "    <tr>\n",
              "      <th>ids</th>\n",
              "      <th></th>\n",
              "      <th></th>\n",
              "      <th></th>\n",
              "      <th></th>\n",
              "      <th></th>\n",
              "    </tr>\n",
              "  </thead>\n",
              "  <tbody>\n",
              "    <tr>\n",
              "      <th>3</th>\n",
              "      <td>4</td>\n",
              "      <td>Mon May 11 03:17:40 UTC 2009</td>\n",
              "      <td>kindle2</td>\n",
              "      <td>tpryan</td>\n",
              "      <td>@stellargirl I loooooooovvvvvveee my Kindle2. ...</td>\n",
              "    </tr>\n",
              "    <tr>\n",
              "      <th>4</th>\n",
              "      <td>4</td>\n",
              "      <td>Mon May 11 03:18:03 UTC 2009</td>\n",
              "      <td>kindle2</td>\n",
              "      <td>vcu451</td>\n",
              "      <td>Reading my kindle2...  Love it... Lee childs i...</td>\n",
              "    </tr>\n",
              "    <tr>\n",
              "      <th>5</th>\n",
              "      <td>4</td>\n",
              "      <td>Mon May 11 03:18:54 UTC 2009</td>\n",
              "      <td>kindle2</td>\n",
              "      <td>chadfu</td>\n",
              "      <td>Ok, first assesment of the #kindle2 ...it fuck...</td>\n",
              "    </tr>\n",
              "    <tr>\n",
              "      <th>6</th>\n",
              "      <td>4</td>\n",
              "      <td>Mon May 11 03:19:04 UTC 2009</td>\n",
              "      <td>kindle2</td>\n",
              "      <td>SIX15</td>\n",
              "      <td>@kenburbary You'll love your Kindle2. I've had...</td>\n",
              "    </tr>\n",
              "    <tr>\n",
              "      <th>7</th>\n",
              "      <td>4</td>\n",
              "      <td>Mon May 11 03:21:41 UTC 2009</td>\n",
              "      <td>kindle2</td>\n",
              "      <td>yamarama</td>\n",
              "      <td>@mikefish  Fair enough. But i have the Kindle2...</td>\n",
              "    </tr>\n",
              "  </tbody>\n",
              "</table>\n",
              "</div>\n",
              "      <button class=\"colab-df-convert\" onclick=\"convertToInteractive('df-db3a2f84-fc8b-4e24-96ae-4aef19a1d293')\"\n",
              "              title=\"Convert this dataframe to an interactive table.\"\n",
              "              style=\"display:none;\">\n",
              "        \n",
              "  <svg xmlns=\"http://www.w3.org/2000/svg\" height=\"24px\"viewBox=\"0 0 24 24\"\n",
              "       width=\"24px\">\n",
              "    <path d=\"M0 0h24v24H0V0z\" fill=\"none\"/>\n",
              "    <path d=\"M18.56 5.44l.94 2.06.94-2.06 2.06-.94-2.06-.94-.94-2.06-.94 2.06-2.06.94zm-11 1L8.5 8.5l.94-2.06 2.06-.94-2.06-.94L8.5 2.5l-.94 2.06-2.06.94zm10 10l.94 2.06.94-2.06 2.06-.94-2.06-.94-.94-2.06-.94 2.06-2.06.94z\"/><path d=\"M17.41 7.96l-1.37-1.37c-.4-.4-.92-.59-1.43-.59-.52 0-1.04.2-1.43.59L10.3 9.45l-7.72 7.72c-.78.78-.78 2.05 0 2.83L4 21.41c.39.39.9.59 1.41.59.51 0 1.02-.2 1.41-.59l7.78-7.78 2.81-2.81c.8-.78.8-2.07 0-2.86zM5.41 20L4 18.59l7.72-7.72 1.47 1.35L5.41 20z\"/>\n",
              "  </svg>\n",
              "      </button>\n",
              "      \n",
              "  <style>\n",
              "    .colab-df-container {\n",
              "      display:flex;\n",
              "      flex-wrap:wrap;\n",
              "      gap: 12px;\n",
              "    }\n",
              "\n",
              "    .colab-df-convert {\n",
              "      background-color: #E8F0FE;\n",
              "      border: none;\n",
              "      border-radius: 50%;\n",
              "      cursor: pointer;\n",
              "      display: none;\n",
              "      fill: #1967D2;\n",
              "      height: 32px;\n",
              "      padding: 0 0 0 0;\n",
              "      width: 32px;\n",
              "    }\n",
              "\n",
              "    .colab-df-convert:hover {\n",
              "      background-color: #E2EBFA;\n",
              "      box-shadow: 0px 1px 2px rgba(60, 64, 67, 0.3), 0px 1px 3px 1px rgba(60, 64, 67, 0.15);\n",
              "      fill: #174EA6;\n",
              "    }\n",
              "\n",
              "    [theme=dark] .colab-df-convert {\n",
              "      background-color: #3B4455;\n",
              "      fill: #D2E3FC;\n",
              "    }\n",
              "\n",
              "    [theme=dark] .colab-df-convert:hover {\n",
              "      background-color: #434B5C;\n",
              "      box-shadow: 0px 1px 3px 1px rgba(0, 0, 0, 0.15);\n",
              "      filter: drop-shadow(0px 1px 2px rgba(0, 0, 0, 0.3));\n",
              "      fill: #FFFFFF;\n",
              "    }\n",
              "  </style>\n",
              "\n",
              "      <script>\n",
              "        const buttonEl =\n",
              "          document.querySelector('#df-db3a2f84-fc8b-4e24-96ae-4aef19a1d293 button.colab-df-convert');\n",
              "        buttonEl.style.display =\n",
              "          google.colab.kernel.accessAllowed ? 'block' : 'none';\n",
              "\n",
              "        async function convertToInteractive(key) {\n",
              "          const element = document.querySelector('#df-db3a2f84-fc8b-4e24-96ae-4aef19a1d293');\n",
              "          const dataTable =\n",
              "            await google.colab.kernel.invokeFunction('convertToInteractive',\n",
              "                                                     [key], {});\n",
              "          if (!dataTable) return;\n",
              "\n",
              "          const docLinkHtml = 'Like what you see? Visit the ' +\n",
              "            '<a target=\"_blank\" href=https://colab.research.google.com/notebooks/data_table.ipynb>data table notebook</a>'\n",
              "            + ' to learn more about interactive tables.';\n",
              "          element.innerHTML = '';\n",
              "          dataTable['output_type'] = 'display_data';\n",
              "          await google.colab.output.renderOutput(dataTable, element);\n",
              "          const docLink = document.createElement('div');\n",
              "          docLink.innerHTML = docLinkHtml;\n",
              "          element.appendChild(docLink);\n",
              "        }\n",
              "      </script>\n",
              "    </div>\n",
              "  </div>\n",
              "  "
            ]
          },
          "metadata": {},
          "execution_count": 8
        }
      ],
      "source": [
        "datalen = int(len(dataframe)/10)\n",
        "dataframe = dataframe[0:10000]\n",
        "dataframe.head()"
      ]
    },
    {
      "cell_type": "markdown",
      "source": [
        "# 1. Explore & Prepare Data"
      ],
      "metadata": {
        "id": "trt6ZzcaTwzq"
      }
    },
    {
      "cell_type": "code",
      "execution_count": 9,
      "metadata": {
        "colab": {
          "base_uri": "https://localhost:8080/"
        },
        "id": "gXj-jwJGEtgk",
        "outputId": "6c29c50f-0f1e-451c-c313-a90689281e5c"
      },
      "outputs": [
        {
          "output_type": "stream",
          "name": "stderr",
          "text": [
            "<ipython-input-9-63bdf212b990>:9: SettingWithCopyWarning: \n",
            "A value is trying to be set on a copy of a slice from a DataFrame.\n",
            "Try using .loc[row_indexer,col_indexer] = value instead\n",
            "\n",
            "See the caveats in the documentation: https://pandas.pydata.org/pandas-docs/stable/user_guide/indexing.html#returning-a-view-versus-a-copy\n",
            "  dataframe['text'] = dataframe['text'].apply(lambda x:\n"
          ]
        }
      ],
      "source": [
        "# Define the regular expression pattern\n",
        "pattern = r\"(#\\w+)|(@\\w+)|(https?://\\S+)\"\n",
        "\n",
        "translator = str.maketrans('', '', string.punctuation)\n",
        "# Apply the regular expression to the 'tweet' column\n",
        "dataframe['text'] = dataframe['text'].apply(lambda x: \n",
        "                                                re.sub(pattern, \"\", x)\n",
        "                                                .translate(translator))"
      ]
    },
    {
      "cell_type": "code",
      "execution_count": 10,
      "metadata": {
        "colab": {
          "base_uri": "https://localhost:8080/",
          "height": 455
        },
        "id": "40Ng3LGxPYmB",
        "outputId": "e88a0061-9f06-4028-c773-3da4763d7deb"
      },
      "outputs": [
        {
          "output_type": "execute_result",
          "data": {
            "text/plain": [
              "            target                          date      flag       user  \\\n",
              "ids                                                                     \n",
              "3                4  Mon May 11 03:17:40 UTC 2009   kindle2     tpryan   \n",
              "4                4  Mon May 11 03:18:03 UTC 2009   kindle2     vcu451   \n",
              "5                4  Mon May 11 03:18:54 UTC 2009   kindle2     chadfu   \n",
              "6                4  Mon May 11 03:19:04 UTC 2009   kindle2      SIX15   \n",
              "7                4  Mon May 11 03:21:41 UTC 2009   kindle2   yamarama   \n",
              "...            ...                           ...       ...        ...   \n",
              "1468693970       0  Tue Apr 07 03:12:29 PDT 2009  NO_QUERY     earcos   \n",
              "1468693972       0  Tue Apr 07 03:12:29 PDT 2009  NO_QUERY     subaie   \n",
              "1468694428       0  Tue Apr 07 03:12:37 PDT 2009  NO_QUERY  Jayme1988   \n",
              "1468694601       0  Tue Apr 07 03:12:41 PDT 2009  NO_QUERY   yensidek   \n",
              "1468694803       0  Tue Apr 07 03:12:44 PDT 2009  NO_QUERY  VDJBailey   \n",
              "\n",
              "                                                         text  \n",
              "ids                                                            \n",
              "3            I loooooooovvvvvveee my Kindle2 Not that the ...  \n",
              "4           Reading my kindle2  Love it Lee childs is good...  \n",
              "5                 Ok first assesment of the  it fucking rocks  \n",
              "6            Youll love your Kindle2 Ive had mine for a fe...  \n",
              "7             Fair enough But i have the Kindle2 and I thi...  \n",
              "...                                                       ...  \n",
              "1468693970                            That page doesnt exist   \n",
              "1468693972   I could not install it for XP users here in A...  \n",
              "1468694428   I am on a healthy eating kick I could only ha...  \n",
              "1468694601  Did not sleep well at all and have a very unha...  \n",
              "1468694803                            is hanging out washing   \n",
              "\n",
              "[10000 rows x 5 columns]"
            ],
            "text/html": [
              "\n",
              "  <div id=\"df-98dc1b4e-d3e9-432b-a9bf-755ef0c2ed18\">\n",
              "    <div class=\"colab-df-container\">\n",
              "      <div>\n",
              "<style scoped>\n",
              "    .dataframe tbody tr th:only-of-type {\n",
              "        vertical-align: middle;\n",
              "    }\n",
              "\n",
              "    .dataframe tbody tr th {\n",
              "        vertical-align: top;\n",
              "    }\n",
              "\n",
              "    .dataframe thead th {\n",
              "        text-align: right;\n",
              "    }\n",
              "</style>\n",
              "<table border=\"1\" class=\"dataframe\">\n",
              "  <thead>\n",
              "    <tr style=\"text-align: right;\">\n",
              "      <th></th>\n",
              "      <th>target</th>\n",
              "      <th>date</th>\n",
              "      <th>flag</th>\n",
              "      <th>user</th>\n",
              "      <th>text</th>\n",
              "    </tr>\n",
              "    <tr>\n",
              "      <th>ids</th>\n",
              "      <th></th>\n",
              "      <th></th>\n",
              "      <th></th>\n",
              "      <th></th>\n",
              "      <th></th>\n",
              "    </tr>\n",
              "  </thead>\n",
              "  <tbody>\n",
              "    <tr>\n",
              "      <th>3</th>\n",
              "      <td>4</td>\n",
              "      <td>Mon May 11 03:17:40 UTC 2009</td>\n",
              "      <td>kindle2</td>\n",
              "      <td>tpryan</td>\n",
              "      <td>I loooooooovvvvvveee my Kindle2 Not that the ...</td>\n",
              "    </tr>\n",
              "    <tr>\n",
              "      <th>4</th>\n",
              "      <td>4</td>\n",
              "      <td>Mon May 11 03:18:03 UTC 2009</td>\n",
              "      <td>kindle2</td>\n",
              "      <td>vcu451</td>\n",
              "      <td>Reading my kindle2  Love it Lee childs is good...</td>\n",
              "    </tr>\n",
              "    <tr>\n",
              "      <th>5</th>\n",
              "      <td>4</td>\n",
              "      <td>Mon May 11 03:18:54 UTC 2009</td>\n",
              "      <td>kindle2</td>\n",
              "      <td>chadfu</td>\n",
              "      <td>Ok first assesment of the  it fucking rocks</td>\n",
              "    </tr>\n",
              "    <tr>\n",
              "      <th>6</th>\n",
              "      <td>4</td>\n",
              "      <td>Mon May 11 03:19:04 UTC 2009</td>\n",
              "      <td>kindle2</td>\n",
              "      <td>SIX15</td>\n",
              "      <td>Youll love your Kindle2 Ive had mine for a fe...</td>\n",
              "    </tr>\n",
              "    <tr>\n",
              "      <th>7</th>\n",
              "      <td>4</td>\n",
              "      <td>Mon May 11 03:21:41 UTC 2009</td>\n",
              "      <td>kindle2</td>\n",
              "      <td>yamarama</td>\n",
              "      <td>Fair enough But i have the Kindle2 and I thi...</td>\n",
              "    </tr>\n",
              "    <tr>\n",
              "      <th>...</th>\n",
              "      <td>...</td>\n",
              "      <td>...</td>\n",
              "      <td>...</td>\n",
              "      <td>...</td>\n",
              "      <td>...</td>\n",
              "    </tr>\n",
              "    <tr>\n",
              "      <th>1468693970</th>\n",
              "      <td>0</td>\n",
              "      <td>Tue Apr 07 03:12:29 PDT 2009</td>\n",
              "      <td>NO_QUERY</td>\n",
              "      <td>earcos</td>\n",
              "      <td>That page doesnt exist</td>\n",
              "    </tr>\n",
              "    <tr>\n",
              "      <th>1468693972</th>\n",
              "      <td>0</td>\n",
              "      <td>Tue Apr 07 03:12:29 PDT 2009</td>\n",
              "      <td>NO_QUERY</td>\n",
              "      <td>subaie</td>\n",
              "      <td>I could not install it for XP users here in A...</td>\n",
              "    </tr>\n",
              "    <tr>\n",
              "      <th>1468694428</th>\n",
              "      <td>0</td>\n",
              "      <td>Tue Apr 07 03:12:37 PDT 2009</td>\n",
              "      <td>NO_QUERY</td>\n",
              "      <td>Jayme1988</td>\n",
              "      <td>I am on a healthy eating kick I could only ha...</td>\n",
              "    </tr>\n",
              "    <tr>\n",
              "      <th>1468694601</th>\n",
              "      <td>0</td>\n",
              "      <td>Tue Apr 07 03:12:41 PDT 2009</td>\n",
              "      <td>NO_QUERY</td>\n",
              "      <td>yensidek</td>\n",
              "      <td>Did not sleep well at all and have a very unha...</td>\n",
              "    </tr>\n",
              "    <tr>\n",
              "      <th>1468694803</th>\n",
              "      <td>0</td>\n",
              "      <td>Tue Apr 07 03:12:44 PDT 2009</td>\n",
              "      <td>NO_QUERY</td>\n",
              "      <td>VDJBailey</td>\n",
              "      <td>is hanging out washing</td>\n",
              "    </tr>\n",
              "  </tbody>\n",
              "</table>\n",
              "<p>10000 rows × 5 columns</p>\n",
              "</div>\n",
              "      <button class=\"colab-df-convert\" onclick=\"convertToInteractive('df-98dc1b4e-d3e9-432b-a9bf-755ef0c2ed18')\"\n",
              "              title=\"Convert this dataframe to an interactive table.\"\n",
              "              style=\"display:none;\">\n",
              "        \n",
              "  <svg xmlns=\"http://www.w3.org/2000/svg\" height=\"24px\"viewBox=\"0 0 24 24\"\n",
              "       width=\"24px\">\n",
              "    <path d=\"M0 0h24v24H0V0z\" fill=\"none\"/>\n",
              "    <path d=\"M18.56 5.44l.94 2.06.94-2.06 2.06-.94-2.06-.94-.94-2.06-.94 2.06-2.06.94zm-11 1L8.5 8.5l.94-2.06 2.06-.94-2.06-.94L8.5 2.5l-.94 2.06-2.06.94zm10 10l.94 2.06.94-2.06 2.06-.94-2.06-.94-.94-2.06-.94 2.06-2.06.94z\"/><path d=\"M17.41 7.96l-1.37-1.37c-.4-.4-.92-.59-1.43-.59-.52 0-1.04.2-1.43.59L10.3 9.45l-7.72 7.72c-.78.78-.78 2.05 0 2.83L4 21.41c.39.39.9.59 1.41.59.51 0 1.02-.2 1.41-.59l7.78-7.78 2.81-2.81c.8-.78.8-2.07 0-2.86zM5.41 20L4 18.59l7.72-7.72 1.47 1.35L5.41 20z\"/>\n",
              "  </svg>\n",
              "      </button>\n",
              "      \n",
              "  <style>\n",
              "    .colab-df-container {\n",
              "      display:flex;\n",
              "      flex-wrap:wrap;\n",
              "      gap: 12px;\n",
              "    }\n",
              "\n",
              "    .colab-df-convert {\n",
              "      background-color: #E8F0FE;\n",
              "      border: none;\n",
              "      border-radius: 50%;\n",
              "      cursor: pointer;\n",
              "      display: none;\n",
              "      fill: #1967D2;\n",
              "      height: 32px;\n",
              "      padding: 0 0 0 0;\n",
              "      width: 32px;\n",
              "    }\n",
              "\n",
              "    .colab-df-convert:hover {\n",
              "      background-color: #E2EBFA;\n",
              "      box-shadow: 0px 1px 2px rgba(60, 64, 67, 0.3), 0px 1px 3px 1px rgba(60, 64, 67, 0.15);\n",
              "      fill: #174EA6;\n",
              "    }\n",
              "\n",
              "    [theme=dark] .colab-df-convert {\n",
              "      background-color: #3B4455;\n",
              "      fill: #D2E3FC;\n",
              "    }\n",
              "\n",
              "    [theme=dark] .colab-df-convert:hover {\n",
              "      background-color: #434B5C;\n",
              "      box-shadow: 0px 1px 3px 1px rgba(0, 0, 0, 0.15);\n",
              "      filter: drop-shadow(0px 1px 2px rgba(0, 0, 0, 0.3));\n",
              "      fill: #FFFFFF;\n",
              "    }\n",
              "  </style>\n",
              "\n",
              "      <script>\n",
              "        const buttonEl =\n",
              "          document.querySelector('#df-98dc1b4e-d3e9-432b-a9bf-755ef0c2ed18 button.colab-df-convert');\n",
              "        buttonEl.style.display =\n",
              "          google.colab.kernel.accessAllowed ? 'block' : 'none';\n",
              "\n",
              "        async function convertToInteractive(key) {\n",
              "          const element = document.querySelector('#df-98dc1b4e-d3e9-432b-a9bf-755ef0c2ed18');\n",
              "          const dataTable =\n",
              "            await google.colab.kernel.invokeFunction('convertToInteractive',\n",
              "                                                     [key], {});\n",
              "          if (!dataTable) return;\n",
              "\n",
              "          const docLinkHtml = 'Like what you see? Visit the ' +\n",
              "            '<a target=\"_blank\" href=https://colab.research.google.com/notebooks/data_table.ipynb>data table notebook</a>'\n",
              "            + ' to learn more about interactive tables.';\n",
              "          element.innerHTML = '';\n",
              "          dataTable['output_type'] = 'display_data';\n",
              "          await google.colab.output.renderOutput(dataTable, element);\n",
              "          const docLink = document.createElement('div');\n",
              "          docLink.innerHTML = docLinkHtml;\n",
              "          element.appendChild(docLink);\n",
              "        }\n",
              "      </script>\n",
              "    </div>\n",
              "  </div>\n",
              "  "
            ]
          },
          "metadata": {},
          "execution_count": 10
        }
      ],
      "source": [
        "dataframe"
      ]
    },
    {
      "cell_type": "markdown",
      "metadata": {
        "id": "9eY0PnLmjs_6"
      },
      "source": [
        "# 2. Build A BOW and Train Model"
      ]
    },
    {
      "cell_type": "code",
      "execution_count": 50,
      "metadata": {
        "colab": {
          "base_uri": "https://localhost:8080/"
        },
        "id": "xhxusxUc1_M9",
        "outputId": "515dd101-9b17-473e-d49e-7f4afe39e32c"
      },
      "outputs": [
        {
          "output_type": "stream",
          "name": "stdout",
          "text": [
            "10000\n"
          ]
        }
      ],
      "source": [
        "# Create a Vectorizer Object\n",
        "vectorizer = CountVectorizer(stop_words='english')\n",
        "vectorizer.fit(dataframe['text'])\n",
        "\n",
        "# Encode the Document\n",
        "vector = vectorizer.transform(dataframe['text'])\n",
        "X = vector.toarray()\n",
        "Y = dataframe['target']\n",
        "print(len(X))"
      ]
    },
    {
      "cell_type": "code",
      "execution_count": 13,
      "metadata": {
        "id": "YItGsUjQVahA"
      },
      "outputs": [],
      "source": [
        "x_train,x_test,y_train,y_test=train_test_split(X,Y,test_size=0.2)"
      ]
    },
    {
      "cell_type": "markdown",
      "metadata": {
        "id": "JMZZU9zTj3Rp"
      },
      "source": [
        "## KNN Model Training"
      ]
    },
    {
      "cell_type": "code",
      "execution_count": 14,
      "metadata": {
        "id": "MULsQ2rYWf2b",
        "colab": {
          "base_uri": "https://localhost:8080/",
          "height": 280
        },
        "outputId": "b3f05bd7-6144-4e59-f72a-9b088ddab34f"
      },
      "outputs": [
        {
          "output_type": "display_data",
          "data": {
            "text/plain": [
              "<Figure size 432x288 with 1 Axes>"
            ],
            "image/png": "[encoded data removed]"
          },
          "metadata": {
            "needs_background": "light"
          }
        }
      ],
      "source": [
        "neighbors = np.arange(1, 9)\n",
        "train_accuracy = np.empty(len(neighbors))\n",
        "test_accuracy = np.empty(len(neighbors))\n",
        "  \n",
        "# Loop over K values\n",
        "for i, k in enumerate(neighbors):\n",
        "    knn = KNeighborsClassifier(n_neighbors=k)\n",
        "    knn.fit(x_train, y_train)\n",
        "      \n",
        "    # Compute training and test data accuracy\n",
        "    train_accuracy[i] = knn.score(x_train, y_train)\n",
        "    test_accuracy[i] = knn.score(x_test, y_test)\n",
        "  \n",
        "# Generate plot\n",
        "plt.plot(neighbors, test_accuracy, label = 'Testing dataset Accuracy')\n",
        "plt.plot(neighbors, train_accuracy, label = 'Training dataset Accuracy')\n",
        "  \n",
        "plt.legend()\n",
        "plt.xlabel('n_neighbors')\n",
        "plt.ylabel('Accuracy')\n",
        "plt.show()"
      ]
    },
    {
      "cell_type": "markdown",
      "metadata": {
        "id": "estDLGBEkP9F"
      },
      "source": [
        "## Pick the Best Number of Neighbours in KNN"
      ]
    },
    {
      "cell_type": "code",
      "execution_count": 15,
      "metadata": {
        "id": "4SGnscqD5z0o"
      },
      "outputs": [],
      "source": [
        "knn = KNeighborsClassifier(n_neighbors=7)\n",
        "  \n",
        "knn.fit(x_train, y_train)\n",
        "\n",
        "y_ped_KNN = knn.predict(x_test)"
      ]
    },
    {
      "cell_type": "markdown",
      "metadata": {
        "id": "zX8xJtIukUCk"
      },
      "source": [
        "## Training Decesion Tree (DT)"
      ]
    },
    {
      "cell_type": "code",
      "execution_count": 16,
      "metadata": {
        "id": "m29sf_ax9cJ-"
      },
      "outputs": [],
      "source": [
        "# Create Decision Tree classifer object\n",
        "clf = DecisionTreeClassifier()\n",
        "\n",
        "# Train Decision Tree Classifer\n",
        "clf = clf.fit(x_train,y_train)\n",
        "\n",
        "#Predict the response for test dataset\n",
        "y_pred_DT = clf.predict(x_test)\n",
        "\n",
        "# Model Accuracy, how often is the classifier correct?"
      ]
    },
    {
      "cell_type": "markdown",
      "metadata": {
        "id": "QsRF_AlJkacD"
      },
      "source": [
        "## Training Support Vector Machine (SVM)"
      ]
    },
    {
      "cell_type": "code",
      "execution_count": 17,
      "metadata": {
        "id": "dR0pzSi5YWXN"
      },
      "outputs": [],
      "source": [
        "#Create a svm Classifier\n",
        "clf = svm.SVC(kernel='linear') # Linear Kernel\n",
        "\n",
        "#Train the model using the training sets\n",
        "clf.fit(x_train, y_train)\n",
        "\n",
        "#Predict the response for test dataset\n",
        "y_pred_SVM = clf.predict(x_test)"
      ]
    },
    {
      "cell_type": "markdown",
      "metadata": {
        "id": "NcP_s3edkl_t"
      },
      "source": [
        "# Model Evalutions"
      ]
    },
    {
      "cell_type": "markdown",
      "metadata": {
        "id": "XQRDXh5ykpXj"
      },
      "source": [
        "## Accuracy"
      ]
    },
    {
      "cell_type": "code",
      "execution_count": 18,
      "metadata": {
        "colab": {
          "base_uri": "https://localhost:8080/"
        },
        "id": "lPfJLo9qiNlq",
        "outputId": "8a418ff3-1c2d-4a8f-f002-c66ff63a65f4"
      },
      "outputs": [
        {
          "metadata": {
            "tags": null
          },
          "name": "stdout",
          "output_type": "stream",
          "text": [
            "Accuracy(KNN): 0.6195\n",
            "Accuracy(DT): 0.6835\n",
            "Accuracy(SVM): 0.7315\n"
          ]
        }
      ],
      "source": [
        "print(\"Accuracy(KNN):\",metrics.accuracy_score(y_test, y_ped_KNN))\n",
        "print(\"Accuracy(DT):\",metrics.accuracy_score(y_test, y_pred_DT))\n",
        "print(\"Accuracy(SVM):\",metrics.accuracy_score(y_test, y_pred_SVM))"
      ]
    },
    {
      "cell_type": "markdown",
      "metadata": {
        "id": "CM7jfRQGksao"
      },
      "source": [
        "## Confusion Matrix"
      ]
    },
    {
      "cell_type": "code",
      "execution_count": 19,
      "metadata": {
        "colab": {
          "base_uri": "https://localhost:8080/",
          "height": 803
        },
        "id": "KlgFeZxuePPa",
        "outputId": "156c8981-ed49-4123-d20a-3a3870ae054f"
      },
      "outputs": [
        {
          "output_type": "display_data",
          "data": {
            "text/plain": [
              "<Figure size 432x288 with 2 Axes>"
            ],
            "image/png": "[encoded data removed]"
          },
          "metadata": {
            "needs_background": "light"
          }
        },
        {
          "output_type": "display_data",
          "data": {
            "text/plain": [
              "<Figure size 432x288 with 2 Axes>"
            ],
            "image/png": "[encoded data removed]"
          },
          "metadata": {
            "needs_background": "light"
          }
        },
        {
          "output_type": "display_data",
          "data": {
            "text/plain": [
              "<Figure size 432x288 with 2 Axes>"
            ],
            "image/png": "[encoded data removed]"
          },
          "metadata": {
            "needs_background": "light"
          }
        }
      ],
      "source": [
        "labels = [\"Negative\", \"Neutral\", \"Positive\"]\n",
        "confusion_matrix = metrics.confusion_matrix(y_test, y_ped_KNN)\n",
        "cm_display = metrics.ConfusionMatrixDisplay(confusion_matrix = confusion_matrix, display_labels = labels)\n",
        "cm_display.plot()\n",
        "plt.show()\n",
        "confusion_matrix = metrics.confusion_matrix(y_test, y_pred_DT)\n",
        "cm_display = metrics.ConfusionMatrixDisplay(confusion_matrix = confusion_matrix, display_labels =labels)\n",
        "cm_display.plot()\n",
        "plt.show()\n",
        "confusion_matrix = metrics.confusion_matrix(y_test, y_pred_SVM)\n",
        "cm_display = metrics.ConfusionMatrixDisplay(confusion_matrix = confusion_matrix, display_labels =labels)\n",
        "cm_display.plot()\n",
        "plt.show()"
      ]
    },
    {
      "cell_type": "markdown",
      "metadata": {
        "id": "HvN0BTfikv8W"
      },
      "source": [
        "## Classification Report"
      ]
    },
    {
      "cell_type": "code",
      "execution_count": 20,
      "metadata": {
        "colab": {
          "base_uri": "https://localhost:8080/"
        },
        "id": "zEYXJNTYe1fs",
        "outputId": "4cca1599-c94a-404f-d231-32a3cfef07d8"
      },
      "outputs": [
        {
          "output_type": "stream",
          "name": "stdout",
          "text": [
            "KNN\n",
            "              precision    recall  f1-score   support\n",
            "\n",
            "    Negative       0.56      0.33      0.42       796\n",
            "     Neutral       0.00      0.00      0.00        26\n",
            "    Positive       0.64      0.83      0.72      1178\n",
            "\n",
            "    accuracy                           0.62      2000\n",
            "   macro avg       0.40      0.39      0.38      2000\n",
            "weighted avg       0.60      0.62      0.59      2000\n",
            "\n",
            "DT\n",
            "              precision    recall  f1-score   support\n",
            "\n",
            "    Negative       0.62      0.61      0.61       796\n",
            "     Neutral       0.43      0.50      0.46        26\n",
            "    Positive       0.73      0.74      0.74      1178\n",
            "\n",
            "    accuracy                           0.68      2000\n",
            "   macro avg       0.59      0.62      0.60      2000\n",
            "weighted avg       0.68      0.68      0.68      2000\n",
            "\n",
            "SVM\n",
            "              precision    recall  f1-score   support\n",
            "\n",
            "    Negative       0.69      0.63      0.66       796\n",
            "     Neutral       0.43      0.23      0.30        26\n",
            "    Positive       0.76      0.81      0.78      1178\n",
            "\n",
            "    accuracy                           0.73      2000\n",
            "   macro avg       0.63      0.56      0.58      2000\n",
            "weighted avg       0.73      0.73      0.73      2000\n",
            "\n"
          ]
        }
      ],
      "source": [
        "print(\"KNN\")\n",
        "print(classification_report(y_test, y_ped_KNN, target_names=labels))\n",
        "print(\"DT\")\n",
        "print(classification_report(y_test, y_pred_DT, target_names=labels))\n",
        "print(\"SVM\")\n",
        "print(classification_report(y_test, y_pred_SVM, target_names=labels))"
      ]
    },
    {
      "cell_type": "markdown",
      "source": [
        "# 4. Build CNN Using Word Embedding"
      ],
      "metadata": {
        "id": "zy54dyhJULTz"
      }
    },
    {
      "cell_type": "code",
      "execution_count": 49,
      "metadata": {
        "id": "Gk4PhZP-naIr",
        "colab": {
          "base_uri": "https://localhost:8080/"
        },
        "outputId": "c5058ee9-1691-48a3-e8df-9c2f9d823a3a"
      },
      "outputs": [
        {
          "output_type": "stream",
          "name": "stdout",
          "text": [
            "[1 1 1 ... 1 1 1]\n",
            "Epoch 1/2\n",
            "50/50 [==============================] - 146s 3s/step - loss: 0.7622 - accuracy: 0.5669 - val_loss: 0.6436 - val_accuracy: 0.6250\n",
            "Epoch 2/2\n",
            "50/50 [==============================] - 145s 3s/step - loss: 0.5131 - accuracy: 0.7619 - val_loss: 0.6216 - val_accuracy: 0.6650\n",
            "Accuracy: 66.50%\n"
          ]
        }
      ],
      "source": [
        "# Define the input text data and labels\n",
        "dataframe1 = dataframe[0:2000]\n",
        "dataframe1['target'].replace(to_replace= 2, value = 1, inplace=True )\n",
        "dataframe1['target'].replace(to_replace= 4, value = 2, inplace=True )\n",
        "text_data = list(dataframe1['text'])\n",
        "labels = list(dataframe1['target'])\n",
        "labels = np.array(labels)\n",
        "\n",
        "#Tokenize the text data and create the feature vectors\n",
        "#we will use a simple bag-of-words representation\n",
        "vocab = set([word for text in text_data for word in text.split()])\n",
        "feature_vectors = []\n",
        "for text in text_data:\n",
        "    feature_vector = [1 if word in text.split() else 0 for word in vocab]\n",
        "    feature_vectors.append(feature_vector)\n",
        "\n",
        "# Pad the sequences to the same length\n",
        "max_length = max([len(doc) for doc in feature_vectors])\n",
        "padded_sequences = pad_sequences(feature_vectors, maxlen=max_length, padding='post', truncating='post')\n",
        "# Split the data into training and test sets\n",
        "\n",
        "\n",
        "X_train, X_test, y_train, y_test = train_test_split(padded_sequences, labels, test_size=0.2, random_state=42)\n",
        "\n",
        "#print(type(y_train))\n",
        "\n",
        "# Define the CNN model\n",
        "model = Sequential()\n",
        "model.add(Embedding(input_dim=len(vocab), output_dim=300, input_length=max_length))\n",
        "model.add(Conv1D(filters=100, kernel_size=3, activation='relu'))\n",
        "model.add(MaxPooling1D(pool_size=2))\n",
        "model.add(Flatten())\n",
        "model.add(Dense(units=3, activation='softmax'))\n",
        "\n",
        "# Compile the model\n",
        "model.compile(optimizer='adam', loss='sparse_categorical_crossentropy', metrics=['accuracy'])\n",
        "\n",
        "# Train the model\n",
        "model.fit(X_train, y_train, epochs=10, batch_size=32, validation_data=(X_test, y_test))\n",
        "scores = model.evaluate(X_test, y_test, verbose=0)\n",
        "print(\"Accuracy: %.2f%%\" % (scores[1]*100))"
      ]
    }
  ],
  "metadata": {
    "accelerator": "TPU",
    "colab": {
      "provenance": [],
      "toc_visible": true,
      "authorship_tag": "ABX9TyPbVpOkp2ZshjHtYgAllBls",
      "include_colab_link": true
    },
    "gpuClass": "standard",
    "kernelspec": {
      "display_name": "Python 3",
      "name": "python3"
    },
    "language_info": {
      "name": "python"
    }
  },
  "nbformat": 4,
  "nbformat_minor": 0
}