{
  "nbformat": 4,
  "nbformat_minor": 0,
  "metadata": {
    "colab": {
      "provenance": [],
      "authorship_tag": "ABX9TyMstcN9b9aCe4Cg5FIMIdxw",
      "include_colab_link": true
    },
    "kernelspec": {
      "name": "python3",
      "display_name": "Python 3"
    },
    "language_info": {
      "name": "python"
    }
  },
  "cells": [
    {
      "cell_type": "markdown",
      "metadata": {
        "id": "view-in-github",
        "colab_type": "text"
      },
      "source": [
        "<a href=\"https://colab.research.google.com/github/arsxlanali/aws_machine_learning/blob/master/FlaskConnect.ipynb\" target=\"_parent\"><img src=\"https://colab.research.google.com/assets/colab-badge.svg\" alt=\"Open In Colab\"/></a>"
      ]
    },
    {
      "cell_type": "code",
      "execution_count": 1,
      "metadata": {
        "id": "3m8GA1Nqa3LY"
      },
      "outputs": [],
      "source": [
        "import firebase_admin\n",
        "\n",
        "cred_obj = firebase_admin.credentials.Certificate('/content/fir-test-76ff0-firebase-adminsdk-uu7r4-13cefcfb1e.json')\n",
        "default_app = firebase_admin.initialize_app(cred_obj, {\n",
        "\t'databaseURL':'https://fir-test-76ff0-default-rtdb.firebaseio.com/'\n",
        "\t})"
      ]
    },
    {
      "cell_type": "code",
      "source": [
        "from firebase_admin import db\n",
        "\n",
        "ref = db.reference(\"/\")"
      ],
      "metadata": {
        "id": "u_uV7241btDx"
      },
      "execution_count": 2,
      "outputs": []
    },
    {
      "cell_type": "code",
      "source": [
        "import json\n",
        "with open(\"/content/file.json\", \"r\") as f:\n",
        "\tfile_contents = json.load(f)\n",
        "print(type(file_contents))\n",
        "#ref.set(file_contents)"
      ],
      "metadata": {
        "colab": {
          "base_uri": "https://localhost:8080/"
        },
        "id": "q3Qgd3ktcII4",
        "outputId": "b1f68c46-aa81-476d-f1f0-74aabc604046"
      },
      "execution_count": 5,
      "outputs": [
        {
          "output_type": "stream",
          "name": "stdout",
          "text": [
            "<class 'dict'>\n"
          ]
        }
      ]
    }
  ]
}